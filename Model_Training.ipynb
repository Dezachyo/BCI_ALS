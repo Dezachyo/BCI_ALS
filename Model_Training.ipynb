{
 "cells": [
  {
   "cell_type": "code",
<<<<<<< HEAD
   "execution_count": 25,
   "id": "7a019fb8-c924-4d04-b3de-c681a8f5680d",
   "metadata": {},
   "outputs": [],
   "source": [
    "import pyeeg\n",
    "from easygui import *\n",
    "import pyxdf\n",
    "import PyQt5\n",
    "import mne\n",
    "import numpy as np\n",
    "from os import listdir\n",
    "from os.path import isfile, join\n",
    "import pandas as pd\n",
    "import pathlib\n",
    "import mne\n",
    "import matplotlib\n",
    "import matplotlib.pyplot as plt\n",
    "import seaborn as sns\n",
    "#from joblib import dump,load\n",
    "import pickle\n",
    "# For interactive plots\n",
    "from IPython import get_ipython\n",
    "get_ipython().run_line_magic('matplotlib', 'qt')\n",
    "#from subfunctions import *\n",
    "\n",
    "\n",
    "from mne.decoding import (SlidingEstimator, GeneralizingEstimator, Scaler,\n",
    "                          cross_val_multiscore, LinearModel, get_coef,\n",
    "                          Vectorizer, CSP)\n",
    "\n",
    "import warnings\n",
    "warnings.filterwarnings('ignore')\n",
    "import os,numpy as np,pandas as pd\n",
    "from collections import OrderedDict\n",
    "import seaborn as sns\n",
    "from matplotlib import pyplot as plt\n",
    "\n",
    "# MNE functions\n",
    "from mne import Epochs,find_events\n",
    "from mne.decoding import Vectorizer\n",
    "\n",
    "\n",
    "# Scikit-learn and Pyriemann ML functionalities\n",
    "from sklearn.pipeline import make_pipeline\n",
    "from sklearn.preprocessing import StandardScaler\n",
    "from sklearn.linear_model import LogisticRegression\n",
    "\n",
    "from sklearn.discriminant_analysis import LinearDiscriminantAnalysis as LDA\n",
    "from sklearn.model_selection import cross_val_score, StratifiedShuffleSplit\n",
    "from pyriemann.estimation import ERPCovariances, XdawnCovariances, Xdawn\n",
    "from pyriemann.tangentspace import TangentSpace\n",
    "from pyriemann.classification import MDM\n",
    "from sklearn.metrics import confusion_matrix\n",
    "\n"
   ]
  },
  {
   "cell_type": "code",
   "execution_count": 2,
   "id": "7aad3e31-8ee9-4f96-b6f0-ad23a7aa9074",
   "metadata": {},
   "outputs": [],
   "source": [
    "class BandwidthFilter:\n",
    "    def __init__(self, l_freq, h_freq, method):\n",
    "        self.l_freq = l_freq\n",
    "        self.h_freq = h_freq\n",
    "        self.method = method\n",
    "        \n",
    "class model:\n",
    "    def __init__(self, clsf, input_shape, ch_names,bandwidthfilter):\n",
    "        self.clsf = clsf\n",
    "        self.input_shape = input_shape\n",
    "        self.ch_names = ch_names\n",
    "        self.bandwidthfilter = bandwidthfilter\n",
    "\n"
   ]
  },
  {
   "cell_type": "code",
   "execution_count": 3,
   "id": "b7278a30-e79a-470c-9712-66d4453fc563",
   "metadata": {},
   "outputs": [],
   "source": [
    "processed_file_name = 'Omri_Recording_001'"
   ]
  },
  {
   "cell_type": "code",
   "execution_count": 4,
   "id": "f9e5d1bb-1bdd-46e5-bc38-aa2f70ac760c",
   "metadata": {},
   "outputs": [
    {
     "name": "stdout",
     "output_type": "stream",
     "text": [
      "Reading /Users/ordez/Documents/BCI_ALS/Data/Processed Data/Omri_Recording_001_Processed ...\n",
      "    Found the data of interest:\n",
      "        t =    -200.00 ...     496.00 ms\n",
      "        0 CTF compensation matrices available\n",
      "Not setting metadata\n",
      "277 matching events found\n",
      "No baseline correction applied\n",
      "0 projection items activated\n"
     ]
    }
   ],
   "source": [
    "current_path = pathlib.Path().absolute()  \n",
    "data_fname = current_path /'Data'/'Processed Data'/ (processed_file_name + '_Processed')\n",
    "epochs = mne.read_epochs(data_fname)\n",
    "\n",
    "#read the pickle file\n",
    "picklefile = open(current_path /'Data'/'Processed Data'/ (processed_file_name+'_Filter'), 'rb')\n",
    "#unpickle the dataframe\n",
    "bandwidth_filter = pickle.load(picklefile)\n",
    "#close file\n",
    "picklefile.close()\n",
    "\n",
    "#bandwidth_filter = load(current_path /'Data'/'Processed Data'/ (processed_file_name+'_Filter'))"
   ]
  },
  {
   "cell_type": "code",
   "execution_count": 5,
   "id": "4f9b7bcf-359c-4c88-a9b8-49fdb5f91d1a",
   "metadata": {},
   "outputs": [
    {
     "ename": "ValueError",
     "evalue": "picks (['Fz']) could not be interpreted as channel names (no channel \"['Fz']\"), channel types (no type \"Fz\"), or a generic type (just \"all\" or \"data\")",
     "output_type": "error",
     "traceback": [
      "\u001b[0;31m---------------------------------------------------------------------------\u001b[0m",
      "\u001b[0;31mValueError\u001b[0m                                Traceback (most recent call last)",
      "\u001b[1;32m/Users/ordez/Documents/BCI_ALS/Model_Training.ipynb Cell 5\u001b[0m in \u001b[0;36m<cell line: 1>\u001b[0;34m()\u001b[0m\n\u001b[0;32m----> <a href='vscode-notebook-cell:/Users/ordez/Documents/BCI_ALS/Model_Training.ipynb#W4sZmlsZQ%3D%3D?line=0'>1</a>\u001b[0m epochs\u001b[39m.\u001b[39;49mplot(picks\u001b[39m=\u001b[39;49m[\u001b[39m'\u001b[39;49m\u001b[39mFz\u001b[39;49m\u001b[39m'\u001b[39;49m])\n\u001b[1;32m      <a href='vscode-notebook-cell:/Users/ordez/Documents/BCI_ALS/Model_Training.ipynb#W4sZmlsZQ%3D%3D?line=1'>2</a>\u001b[0m X \u001b[39m=\u001b[39m epochs\u001b[39m.\u001b[39mget_data()  \u001b[39m# MEG signals: n_epochs, n_meg_channels, n_times\u001b[39;00m\n\u001b[1;32m      <a href='vscode-notebook-cell:/Users/ordez/Documents/BCI_ALS/Model_Training.ipynb#W4sZmlsZQ%3D%3D?line=2'>3</a>\u001b[0m \u001b[39m# Remove baslineperiod\u001b[39;00m\n",
      "File \u001b[0;32m~/opt/anaconda3/envs/BCI_ALS/lib/python3.9/site-packages/mne/epochs.py:1123\u001b[0m, in \u001b[0;36mBaseEpochs.plot\u001b[0;34m(self, picks, scalings, n_epochs, n_channels, title, events, event_color, order, show, block, decim, noise_cov, butterfly, show_scrollbars, show_scalebars, epoch_colors, event_id, group_by, precompute, use_opengl, theme, overview_mode)\u001b[0m\n\u001b[1;32m   1115\u001b[0m \u001b[39m@copy_function_doc_to_method_doc\u001b[39m(plot_epochs)\n\u001b[1;32m   1116\u001b[0m \u001b[39mdef\u001b[39;00m \u001b[39mplot\u001b[39m(\u001b[39mself\u001b[39m, picks\u001b[39m=\u001b[39m\u001b[39mNone\u001b[39;00m, scalings\u001b[39m=\u001b[39m\u001b[39mNone\u001b[39;00m, n_epochs\u001b[39m=\u001b[39m\u001b[39m20\u001b[39m, n_channels\u001b[39m=\u001b[39m\u001b[39m20\u001b[39m,\n\u001b[1;32m   1117\u001b[0m          title\u001b[39m=\u001b[39m\u001b[39mNone\u001b[39;00m, events\u001b[39m=\u001b[39m\u001b[39mNone\u001b[39;00m, event_color\u001b[39m=\u001b[39m\u001b[39mNone\u001b[39;00m,\n\u001b[0;32m   (...)\u001b[0m\n\u001b[1;32m   1121\u001b[0m          precompute\u001b[39m=\u001b[39m\u001b[39mNone\u001b[39;00m, use_opengl\u001b[39m=\u001b[39m\u001b[39mNone\u001b[39;00m, \u001b[39m*\u001b[39m, theme\u001b[39m=\u001b[39m\u001b[39mNone\u001b[39;00m,\n\u001b[1;32m   1122\u001b[0m          overview_mode\u001b[39m=\u001b[39m\u001b[39mNone\u001b[39;00m):\n\u001b[0;32m-> 1123\u001b[0m     \u001b[39mreturn\u001b[39;00m plot_epochs(\u001b[39mself\u001b[39;49m, picks\u001b[39m=\u001b[39;49mpicks, scalings\u001b[39m=\u001b[39;49mscalings,\n\u001b[1;32m   1124\u001b[0m                        n_epochs\u001b[39m=\u001b[39;49mn_epochs, n_channels\u001b[39m=\u001b[39;49mn_channels,\n\u001b[1;32m   1125\u001b[0m                        title\u001b[39m=\u001b[39;49mtitle, events\u001b[39m=\u001b[39;49mevents, event_color\u001b[39m=\u001b[39;49mevent_color,\n\u001b[1;32m   1126\u001b[0m                        order\u001b[39m=\u001b[39;49morder, show\u001b[39m=\u001b[39;49mshow, block\u001b[39m=\u001b[39;49mblock, decim\u001b[39m=\u001b[39;49mdecim,\n\u001b[1;32m   1127\u001b[0m                        noise_cov\u001b[39m=\u001b[39;49mnoise_cov, butterfly\u001b[39m=\u001b[39;49mbutterfly,\n\u001b[1;32m   1128\u001b[0m                        show_scrollbars\u001b[39m=\u001b[39;49mshow_scrollbars,\n\u001b[1;32m   1129\u001b[0m                        show_scalebars\u001b[39m=\u001b[39;49mshow_scalebars,\n\u001b[1;32m   1130\u001b[0m                        epoch_colors\u001b[39m=\u001b[39;49mepoch_colors, event_id\u001b[39m=\u001b[39;49mevent_id,\n\u001b[1;32m   1131\u001b[0m                        group_by\u001b[39m=\u001b[39;49mgroup_by, precompute\u001b[39m=\u001b[39;49mprecompute,\n\u001b[1;32m   1132\u001b[0m                        use_opengl\u001b[39m=\u001b[39;49muse_opengl, theme\u001b[39m=\u001b[39;49mtheme,\n\u001b[1;32m   1133\u001b[0m                        overview_mode\u001b[39m=\u001b[39;49moverview_mode)\n",
      "File \u001b[0;32m~/opt/anaconda3/envs/BCI_ALS/lib/python3.9/site-packages/mne/viz/epochs.py:843\u001b[0m, in \u001b[0;36mplot_epochs\u001b[0;34m(epochs, picks, scalings, n_epochs, n_channels, title, events, event_color, order, show, block, decim, noise_cov, butterfly, show_scrollbars, show_scalebars, epoch_colors, event_id, group_by, precompute, use_opengl, theme, overview_mode)\u001b[0m\n\u001b[1;32m    840\u001b[0m event_color_dict \u001b[39m=\u001b[39m _make_event_color_dict(event_color, events, event_id)\n\u001b[1;32m    842\u001b[0m \u001b[39m# determine trace order\u001b[39;00m\n\u001b[0;32m--> 843\u001b[0m picks \u001b[39m=\u001b[39m _picks_to_idx(info, picks)\n\u001b[1;32m    844\u001b[0m n_channels \u001b[39m=\u001b[39m \u001b[39mmin\u001b[39m(n_channels, \u001b[39mlen\u001b[39m(picks))\n\u001b[1;32m    845\u001b[0m ch_names \u001b[39m=\u001b[39m np\u001b[39m.\u001b[39marray(epochs\u001b[39m.\u001b[39mch_names)\n",
      "File \u001b[0;32m~/opt/anaconda3/envs/BCI_ALS/lib/python3.9/site-packages/mne/io/pick.py:1013\u001b[0m, in \u001b[0;36m_picks_to_idx\u001b[0;34m(info, picks, none, exclude, allow_empty, with_ref_meg, return_kind)\u001b[0m\n\u001b[1;32m   1011\u001b[0m     \u001b[39mraise\u001b[39;00m \u001b[39mValueError\u001b[39;00m(\u001b[39m'\u001b[39m\u001b[39mpicks must be 1D, got \u001b[39m\u001b[39m%s\u001b[39;00m\u001b[39mD\u001b[39m\u001b[39m'\u001b[39m \u001b[39m%\u001b[39m (picks\u001b[39m.\u001b[39mndim,))\n\u001b[1;32m   1012\u001b[0m \u001b[39mif\u001b[39;00m picks\u001b[39m.\u001b[39mdtype\u001b[39m.\u001b[39mchar \u001b[39min\u001b[39;00m (\u001b[39m'\u001b[39m\u001b[39mS\u001b[39m\u001b[39m'\u001b[39m, \u001b[39m'\u001b[39m\u001b[39mU\u001b[39m\u001b[39m'\u001b[39m):\n\u001b[0;32m-> 1013\u001b[0m     picks \u001b[39m=\u001b[39m _picks_str_to_idx(info, picks, exclude, with_ref_meg,\n\u001b[1;32m   1014\u001b[0m                               return_kind, extra_repr, allow_empty,\n\u001b[1;32m   1015\u001b[0m                               orig_picks)\n\u001b[1;32m   1016\u001b[0m     \u001b[39mif\u001b[39;00m return_kind:\n\u001b[1;32m   1017\u001b[0m         picked_ch_type_or_generic \u001b[39m=\u001b[39m picks[\u001b[39m1\u001b[39m]\n",
      "File \u001b[0;32m~/opt/anaconda3/envs/BCI_ALS/lib/python3.9/site-packages/mne/io/pick.py:1126\u001b[0m, in \u001b[0;36m_picks_str_to_idx\u001b[0;34m(info, picks, exclude, with_ref_meg, return_kind, extra_repr, allow_empty, orig_picks)\u001b[0m\n\u001b[1;32m   1124\u001b[0m \u001b[39mif\u001b[39;00m \u001b[39msum\u001b[39m(any_found) \u001b[39m==\u001b[39m \u001b[39m0\u001b[39m:\n\u001b[1;32m   1125\u001b[0m     \u001b[39mif\u001b[39;00m \u001b[39mnot\u001b[39;00m allow_empty:\n\u001b[0;32m-> 1126\u001b[0m         \u001b[39mraise\u001b[39;00m \u001b[39mValueError\u001b[39;00m(\n\u001b[1;32m   1127\u001b[0m             \u001b[39m'\u001b[39m\u001b[39mpicks (\u001b[39m\u001b[39m%s\u001b[39;00m\u001b[39m) could not be interpreted as \u001b[39m\u001b[39m'\u001b[39m\n\u001b[1;32m   1128\u001b[0m             \u001b[39m'\u001b[39m\u001b[39mchannel names (no channel \u001b[39m\u001b[39m\"\u001b[39m\u001b[39m%s\u001b[39;00m\u001b[39m\"\u001b[39m\u001b[39m), channel types (no \u001b[39m\u001b[39m'\u001b[39m\n\u001b[1;32m   1129\u001b[0m             \u001b[39m'\u001b[39m\u001b[39mtype \u001b[39m\u001b[39m\"\u001b[39m\u001b[39m%s\u001b[39;00m\u001b[39m\"\u001b[39m\u001b[39m), or a generic type (just \u001b[39m\u001b[39m\"\u001b[39m\u001b[39mall\u001b[39m\u001b[39m\"\u001b[39m\u001b[39m or \u001b[39m\u001b[39m\"\u001b[39m\u001b[39mdata\u001b[39m\u001b[39m\"\u001b[39m\u001b[39m)\u001b[39m\u001b[39m'\u001b[39m\n\u001b[1;32m   1130\u001b[0m             \u001b[39m%\u001b[39m (\u001b[39mrepr\u001b[39m(orig_picks) \u001b[39m+\u001b[39m extra_repr, \u001b[39mstr\u001b[39m(bad_names), bad_type))\n\u001b[1;32m   1131\u001b[0m     picks \u001b[39m=\u001b[39m np\u001b[39m.\u001b[39marray([], \u001b[39mint\u001b[39m)\n\u001b[1;32m   1132\u001b[0m \u001b[39melif\u001b[39;00m \u001b[39msum\u001b[39m(any_found) \u001b[39m>\u001b[39m \u001b[39m1\u001b[39m:\n",
      "\u001b[0;31mValueError\u001b[0m: picks (['Fz']) could not be interpreted as channel names (no channel \"['Fz']\"), channel types (no type \"Fz\"), or a generic type (just \"all\" or \"data\")"
     ]
    }
   ],
   "source": [
    "X = epochs.get_data()  # MEG signals: n_epochs, n_meg_channels, n_times\n",
    "# Remove baslineperiod\n",
    "baseline_duration = -0.2\n",
    "onset_sample = int(np.absolute(baseline_duration) * 125)\n",
    "X = X[:,:,onset_sample::]\n",
    "\n",
    "y = epochs.events[:, 2]  # target: auditory left vs visual left\n",
    "y = y-1 # 0's and 1's instead of 1's and 2's\n"
   ]
  },
  {
   "cell_type": "code",
   "execution_count": 43,
   "id": "80e2c0d0-b7fa-46dd-873d-fc9630cc7cfb",
   "metadata": {
    "tags": []
   },
   "outputs": [
    {
     "name": "stderr",
     "output_type": "stream",
     "text": [
      "/Users/ordez/opt/anaconda3/envs/BCI_ALS/lib/python3.9/site-packages/sklearn/linear_model/_logistic.py:814: ConvergenceWarning: lbfgs failed to converge (status=1):\n",
      "STOP: TOTAL NO. of ITERATIONS REACHED LIMIT.\n",
      "\n",
      "Increase the number of iterations (max_iter) or scale the data as shown in:\n",
      "    https://scikit-learn.org/stable/modules/preprocessing.html\n",
      "Please also refer to the documentation for alternative solver options:\n",
      "    https://scikit-learn.org/stable/modules/linear_model.html#logistic-regression\n",
      "  n_iter_i = _check_optimize_result(\n",
      "/Users/ordez/opt/anaconda3/envs/BCI_ALS/lib/python3.9/site-packages/sklearn/linear_model/_logistic.py:814: ConvergenceWarning: lbfgs failed to converge (status=1):\n",
      "STOP: TOTAL NO. of ITERATIONS REACHED LIMIT.\n",
      "\n",
      "Increase the number of iterations (max_iter) or scale the data as shown in:\n",
      "    https://scikit-learn.org/stable/modules/preprocessing.html\n",
      "Please also refer to the documentation for alternative solver options:\n",
      "    https://scikit-learn.org/stable/modules/linear_model.html#logistic-regression\n",
      "  n_iter_i = _check_optimize_result(\n",
      "/Users/ordez/opt/anaconda3/envs/BCI_ALS/lib/python3.9/site-packages/sklearn/linear_model/_logistic.py:814: ConvergenceWarning: lbfgs failed to converge (status=1):\n",
      "STOP: TOTAL NO. of ITERATIONS REACHED LIMIT.\n",
      "\n",
      "Increase the number of iterations (max_iter) or scale the data as shown in:\n",
      "    https://scikit-learn.org/stable/modules/preprocessing.html\n",
      "Please also refer to the documentation for alternative solver options:\n",
      "    https://scikit-learn.org/stable/modules/linear_model.html#logistic-regression\n",
      "  n_iter_i = _check_optimize_result(\n",
      "/Users/ordez/opt/anaconda3/envs/BCI_ALS/lib/python3.9/site-packages/sklearn/linear_model/_logistic.py:814: ConvergenceWarning: lbfgs failed to converge (status=1):\n",
      "STOP: TOTAL NO. of ITERATIONS REACHED LIMIT.\n",
      "\n",
      "Increase the number of iterations (max_iter) or scale the data as shown in:\n",
      "    https://scikit-learn.org/stable/modules/preprocessing.html\n",
      "Please also refer to the documentation for alternative solver options:\n",
      "    https://scikit-learn.org/stable/modules/linear_model.html#logistic-regression\n",
      "  n_iter_i = _check_optimize_result(\n",
      "/Users/ordez/opt/anaconda3/envs/BCI_ALS/lib/python3.9/site-packages/sklearn/linear_model/_logistic.py:814: ConvergenceWarning: lbfgs failed to converge (status=1):\n",
      "STOP: TOTAL NO. of ITERATIONS REACHED LIMIT.\n",
      "\n",
      "Increase the number of iterations (max_iter) or scale the data as shown in:\n",
      "    https://scikit-learn.org/stable/modules/preprocessing.html\n",
      "Please also refer to the documentation for alternative solver options:\n",
      "    https://scikit-learn.org/stable/modules/linear_model.html#logistic-regression\n",
      "  n_iter_i = _check_optimize_result(\n",
      "/Users/ordez/opt/anaconda3/envs/BCI_ALS/lib/python3.9/site-packages/pyriemann/utils/base.py:17: RuntimeWarning: invalid value encountered in sqrt\n",
      "  eigvals = operator(eigvals)\n",
      "/Users/ordez/opt/anaconda3/envs/BCI_ALS/lib/python3.9/site-packages/pyriemann/utils/base.py:119: RuntimeWarning: invalid value encountered in sqrt\n",
      "  def isqrt(x): return 1. / np.sqrt(x)\n",
      "/Users/ordez/opt/anaconda3/envs/BCI_ALS/lib/python3.9/site-packages/pyriemann/utils/base.py:17: RuntimeWarning: invalid value encountered in sqrt\n",
      "  eigvals = operator(eigvals)\n",
      "/Users/ordez/opt/anaconda3/envs/BCI_ALS/lib/python3.9/site-packages/pyriemann/utils/base.py:119: RuntimeWarning: invalid value encountered in sqrt\n",
      "  def isqrt(x): return 1. / np.sqrt(x)\n",
      "/Users/ordez/opt/anaconda3/envs/BCI_ALS/lib/python3.9/site-packages/pyriemann/utils/base.py:17: RuntimeWarning: invalid value encountered in sqrt\n",
      "  eigvals = operator(eigvals)\n",
      "/Users/ordez/opt/anaconda3/envs/BCI_ALS/lib/python3.9/site-packages/pyriemann/utils/base.py:119: RuntimeWarning: invalid value encountered in sqrt\n",
      "  def isqrt(x): return 1. / np.sqrt(x)\n",
      "/Users/ordez/opt/anaconda3/envs/BCI_ALS/lib/python3.9/site-packages/pyriemann/utils/base.py:17: RuntimeWarning: invalid value encountered in sqrt\n",
      "  eigvals = operator(eigvals)\n",
      "/Users/ordez/opt/anaconda3/envs/BCI_ALS/lib/python3.9/site-packages/pyriemann/utils/base.py:119: RuntimeWarning: invalid value encountered in sqrt\n",
      "  def isqrt(x): return 1. / np.sqrt(x)\n",
      "/Users/ordez/opt/anaconda3/envs/BCI_ALS/lib/python3.9/site-packages/pyriemann/utils/base.py:17: RuntimeWarning: invalid value encountered in sqrt\n",
      "  eigvals = operator(eigvals)\n",
      "/Users/ordez/opt/anaconda3/envs/BCI_ALS/lib/python3.9/site-packages/pyriemann/utils/base.py:119: RuntimeWarning: invalid value encountered in sqrt\n",
      "  def isqrt(x): return 1. / np.sqrt(x)\n",
      "/Users/ordez/opt/anaconda3/envs/BCI_ALS/lib/python3.9/site-packages/pyriemann/utils/base.py:17: RuntimeWarning: invalid value encountered in sqrt\n",
      "  eigvals = operator(eigvals)\n",
      "/Users/ordez/opt/anaconda3/envs/BCI_ALS/lib/python3.9/site-packages/pyriemann/utils/base.py:119: RuntimeWarning: invalid value encountered in sqrt\n",
      "  def isqrt(x): return 1. / np.sqrt(x)\n",
      "/Users/ordez/opt/anaconda3/envs/BCI_ALS/lib/python3.9/site-packages/pyriemann/utils/base.py:17: RuntimeWarning: invalid value encountered in sqrt\n",
      "  eigvals = operator(eigvals)\n",
      "/Users/ordez/opt/anaconda3/envs/BCI_ALS/lib/python3.9/site-packages/pyriemann/utils/base.py:119: RuntimeWarning: invalid value encountered in sqrt\n",
      "  def isqrt(x): return 1. / np.sqrt(x)\n",
      "/Users/ordez/opt/anaconda3/envs/BCI_ALS/lib/python3.9/site-packages/pyriemann/utils/base.py:17: RuntimeWarning: invalid value encountered in sqrt\n",
      "  eigvals = operator(eigvals)\n",
      "/Users/ordez/opt/anaconda3/envs/BCI_ALS/lib/python3.9/site-packages/pyriemann/utils/base.py:119: RuntimeWarning: invalid value encountered in sqrt\n",
      "  def isqrt(x): return 1. / np.sqrt(x)\n",
      "/Users/ordez/opt/anaconda3/envs/BCI_ALS/lib/python3.9/site-packages/pyriemann/utils/base.py:17: RuntimeWarning: invalid value encountered in sqrt\n",
      "  eigvals = operator(eigvals)\n",
      "/Users/ordez/opt/anaconda3/envs/BCI_ALS/lib/python3.9/site-packages/pyriemann/utils/base.py:119: RuntimeWarning: invalid value encountered in sqrt\n",
      "  def isqrt(x): return 1. / np.sqrt(x)\n",
      "/Users/ordez/opt/anaconda3/envs/BCI_ALS/lib/python3.9/site-packages/pyriemann/utils/base.py:17: RuntimeWarning: invalid value encountered in sqrt\n",
      "  eigvals = operator(eigvals)\n",
      "/Users/ordez/opt/anaconda3/envs/BCI_ALS/lib/python3.9/site-packages/pyriemann/utils/base.py:119: RuntimeWarning: invalid value encountered in sqrt\n",
      "  def isqrt(x): return 1. / np.sqrt(x)\n"
     ]
    }
   ],
   "source": [
    "clfs = OrderedDict()\n",
    "clfs['Vect + LR'] = make_pipeline(Vectorizer(), StandardScaler(), LogisticRegression())\n",
    "clfs['Vect + RegLDA'] = make_pipeline(Vectorizer(), LDA(shrinkage='auto', solver='eigen'))\n",
    "clfs['Xdawn + RegLDA'] = make_pipeline(Xdawn(2, classes=[1]), Vectorizer(), LDA(shrinkage='auto', solver='eigen'))\n",
    "\n",
    "clfs['XdawnCov + TS'] = make_pipeline(XdawnCovariances(estimator='oas'), TangentSpace(), LogisticRegression())\n",
    "clfs['XdawnCov + MDM'] = make_pipeline(XdawnCovariances(estimator='oas'), MDM())\n",
    "\n",
    "\n",
    "clfs['ERPCov + TS'] = make_pipeline(ERPCovariances(), TangentSpace(), LogisticRegression())\n",
    "clfs['ERPCov + MDM'] = make_pipeline(ERPCovariances(), MDM())\n",
    "\n",
    "\n",
    "# format data\n",
    "epochs.pick_types(eeg=True)\n",
    "X = epochs.get_data() * 1e6\n",
    "baseline_duration = -0.2\n",
    "onset_sample = int(np.absolute(baseline_duration) * 125)\n",
    "X = X[:,:,onset_sample::]\n",
    "\n",
    "times = epochs.times\n",
    "y = epochs.events[:, -1]\n",
    "y = y-1\n",
    "\n",
    "# define cross validation\n",
    "cv = StratifiedShuffleSplit(n_splits=5, test_size=0.20, random_state=39)\n",
    "\n",
    "# run cross validation for each pipeline\n",
    "auc = []\n",
    "methods = []\n",
    "for m in clfs:\n",
    "    res = cross_val_score(clfs[m], X, y==1, scoring='balanced_accuracy', cv=cv, n_jobs=-1)\n",
    "    auc.extend(res)\n",
    "    methods.extend([m]*len(res))\n",
    "\n",
    "results = pd.DataFrame(data=auc, columns=['AUC'])\n",
    "results['Method'] = methods\n",
    "\n",
    "plt.figure(figsize=[8,4])\n",
    "sns.barplot(data=results, x='AUC', y='Method')\n",
    "plt.xlim(0.2, 0.85)\n",
    "sns.despine()\n"
   ]
  },
  {
   "cell_type": "markdown",
   "id": "e2fff989-e3f9-442e-b4bc-e599a1055c34",
   "metadata": {},
   "source": [
    "## Lets fit the model to the data and save it"
   ]
  },
  {
   "cell_type": "markdown",
   "id": "0ff5087c-183c-4f8b-aaa4-f5681fe3000c",
   "metadata": {},
   "source": [
    "### First, Choose the best model to save"
   ]
  },
  {
   "cell_type": "code",
   "execution_count": 12,
   "id": "d649c447-9fdb-4125-a35a-ff14228b18da",
   "metadata": {},
   "outputs": [],
   "source": [
    "pipe = clfs['Vect + LR'] \n",
    "#comm"
   ]
  },
  {
   "cell_type": "code",
   "execution_count": 21,
   "id": "94ebd4d1-0bb6-4ee7-8df3-67fb1ef066c8",
   "metadata": {},
   "outputs": [],
   "source": [
    "pipe.fit(X,y)\n",
    "input_shape = X.shape\n",
    "ch_names = epochs.ch_names\n",
    "\n",
    "\n",
    "m = model(pipe,input_shape,ch_names,bandwidth_filter)\n",
    "\n",
    "\n",
    "fname = processed_file_name+'_model'\n",
    "path_fname = current_path /'Models'/ fname\n",
    "\n",
    "\n",
    "#create a pickle file\n",
    "picklefile = open(path_fname, 'wb')\n",
    "#pickle the dictionary and write it to file\n",
    "pickle.dump(m, picklefile)\n",
    "#close the file\n",
    "picklefile.close()"
   ]
  },
  {
   "cell_type": "code",
   "execution_count": 20,
   "id": "f9a3d6e0-76f7-4b8c-bca9-808515041fd2",
   "metadata": {},
   "outputs": [],
   "source": [
    "#read the pickle file\n",
    "picklefile = open(path_fname, 'rb')\n",
    "#unpickle the dataframe\n",
    "loaded = pickle.load(picklefile)\n",
    "#close file\n",
    "picklefile.close()"
   ]
  },
  {
   "cell_type": "code",
   "execution_count": null,
   "id": "4e751379-f1e7-4d02-84f8-17222f6dd433",
   "metadata": {},
   "outputs": [],
   "source": []
  },
  {
   "cell_type": "code",
   "execution_count": null,
   "id": "6383aa94-ad17-4111-976c-10bee868be60",
   "metadata": {},
   "outputs": [],
   "source": []
  }
 ],
 "metadata": {
  "kernelspec": {
   "display_name": "Python 3 (ipykernel)",
   "language": "python",
   "name": "python3"
  },
  "language_info": {
   "codemirror_mode": {
    "name": "ipython",
    "version": 3
   },
   "file_extension": ".py",
   "mimetype": "text/x-python",
   "name": "python",
   "nbconvert_exporter": "python",
   "pygments_lexer": "ipython3",
   "version": "3.9.7"
  }
 },
 "nbformat": 4,
 "nbformat_minor": 5
}
